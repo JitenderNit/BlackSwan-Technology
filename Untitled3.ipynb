{
 "cells": [
  {
   "cell_type": "code",
   "execution_count": 9,
   "id": "f3b8a41f",
   "metadata": {},
   "outputs": [],
   "source": [
    "import pandas as pd\n",
    "import numpy as np"
   ]
  },
  {
   "cell_type": "code",
   "execution_count": 27,
   "id": "c7e66300",
   "metadata": {},
   "outputs": [],
   "source": [
    "import spacy"
   ]
  },
  {
   "cell_type": "code",
   "execution_count": 26,
   "id": "1f7be69c",
   "metadata": {},
   "outputs": [],
   "source": [
    "text = \"Thank you for calling Community Car Plan. My name is Leah. How may I care for you? Hi, Leah. My name is Nathan. Calling for Provider Florida Technique Station to get a clarification on delayed teams. Please be informed that the call is being recorded and monitored for quality and training purposes. Hi. Sure. I'm sorry. What was your name? My name is Nathan. Your name is Leah, right? Yes. Can I please have your tax ID number, Nathan? Yes. Give me a moment. The tax ID number is going to be 812-86-1365. Yes, exactly. Thank you. Do you have the claim number? Yeah. The claim number is going to be. Yes. The claim number is 224-9735 four. Give me a moment. Yeah, go ahead. Okay. You want claim and status? You said. I need the clarification on the denials. Bear with me 1 second, please. What happened? Give me 1 second, please. Take your time. Are you going to transfer the call? I am going to try to see if I can confirm if. Now, I'm going to transfer you to our customer experience Department. Hopefully they will be able to assist you. Okay? Okay. Can you transfer the call to the live representative? Because it's getting rotated and rotated, so. I'm sorry, the call is getting extended. Actually, it's not going to the correct route, so can you just transfer the call to the live representative? You don't want me to transfer to customer experience? No, you can transfer it, but you can transfer the call to the live representative instead of sending me in the queue. Can you transfer the call to the live representative? Oh, yes. Okay. Bear with me 1 second. Okay. I'm going to transfer you now.\""
   ]
  },
  {
   "cell_type": "code",
   "execution_count": 35,
   "id": "7864bd56",
   "metadata": {},
   "outputs": [],
   "source": [
    "def get_entities(text):\n",
    "    nlp = spacy.load(\"en_core_web_sm\")\n",
    "    entity_text = nlp(text)\n",
    "    arr = []\n",
    "    for word in entity_text.ents:\n",
    "        d = {'text':'','type':'','start_pos':int(),'end_pos':int()}\n",
    "        d['text'] = word.text\n",
    "        d['type'] = word.label_\n",
    "        d['start_pos'] = word.start\n",
    "        d['end_pos'] = word.end\n",
    "        arr.append(d)\n",
    "    \n",
    "    return arr"
   ]
  },
  {
   "cell_type": "code",
   "execution_count": 36,
   "id": "cf452175",
   "metadata": {},
   "outputs": [
    {
     "data": {
      "text/plain": [
       "[{'text': 'Community Car Plan',\n",
       "  'type': 'WORK_OF_ART',\n",
       "  'start_pos': 4,\n",
       "  'end_pos': 7},\n",
       " {'text': 'Nathan', 'type': 'ORG', 'start_pos': 27, 'end_pos': 28},\n",
       " {'text': 'Provider Florida Technique Station',\n",
       "  'type': 'ORG',\n",
       "  'start_pos': 31,\n",
       "  'end_pos': 35},\n",
       " {'text': 'Nathan', 'type': 'ORG', 'start_pos': 76, 'end_pos': 77},\n",
       " {'text': 'Nathan', 'type': 'ORG', 'start_pos': 96, 'end_pos': 97},\n",
       " {'text': '224', 'type': 'CARDINAL', 'start_pos': 149, 'end_pos': 150},\n",
       " {'text': 'four', 'type': 'CARDINAL', 'start_pos': 152, 'end_pos': 153},\n",
       " {'text': '1 second', 'type': 'TIME', 'start_pos': 186, 'end_pos': 188},\n",
       " {'text': '1 second', 'type': 'TIME', 'start_pos': 196, 'end_pos': 198},\n",
       " {'text': '1 second', 'type': 'TIME', 'start_pos': 361, 'end_pos': 363}]"
      ]
     },
     "execution_count": 36,
     "metadata": {},
     "output_type": "execute_result"
    }
   ],
   "source": [
    "get_entities(text)"
   ]
  },
  {
   "cell_type": "code",
   "execution_count": 29,
   "id": "682cedb1",
   "metadata": {},
   "outputs": [],
   "source": [
    "\n",
    "    "
   ]
  },
  {
   "cell_type": "code",
   "execution_count": 33,
   "id": "22793492",
   "metadata": {},
   "outputs": [],
   "source": [
    "\n",
    "    "
   ]
  },
  {
   "cell_type": "code",
   "execution_count": null,
   "id": "7813a45f",
   "metadata": {},
   "outputs": [],
   "source": []
  }
 ],
 "metadata": {
  "kernelspec": {
   "display_name": "Python 3 (ipykernel)",
   "language": "python",
   "name": "python3"
  },
  "language_info": {
   "codemirror_mode": {
    "name": "ipython",
    "version": 3
   },
   "file_extension": ".py",
   "mimetype": "text/x-python",
   "name": "python",
   "nbconvert_exporter": "python",
   "pygments_lexer": "ipython3",
   "version": "3.9.7"
  }
 },
 "nbformat": 4,
 "nbformat_minor": 5
}
